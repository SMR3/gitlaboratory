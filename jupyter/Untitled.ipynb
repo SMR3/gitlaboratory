{
 "cells": [
  {
   "cell_type": "markdown",
   "metadata": {},
   "source": [
    "### Smaller heading "
   ]
  },
  {
   "cell_type": "raw",
   "metadata": {},
   "source": [
    "SMR 07-10-16\n",
    "Writing up a few electronic notes on something I started about a month ago 06-09-16 with notes in lab book.\n",
    "Using Iris to load a cube, reduce dimensionality to a 2D field and plot. Also unrotate from the rotated grid and plot.\n",
    "N.B. Originally I think I did this with a psl file. Have just re-visited it with a T file and it is much clearer, probably just because T is land masked, so shape of Australia and NZ show up much more clearly. \n",
    "Code steps are below."
   ]
  },
  {
   "cell_type": "markdown",
   "metadata": {},
   "source": [
    "Intended to be used in directory ~/iris_test"
   ]
  },
  {
   "cell_type": "code",
   "execution_count": 1,
   "metadata": {
    "collapsed": true
   },
   "outputs": [],
   "source": [
    "import iris\n",
    "import matplotlib.pyplot as plt"
   ]
  },
  {
   "cell_type": "code",
   "execution_count": 2,
   "metadata": {
    "collapsed": false
   },
   "outputs": [
    {
     "ename": "SyntaxError",
     "evalue": "invalid syntax (<ipython-input-2-1699c2190c5e>, line 1)",
     "output_type": "error",
     "traceback": [
      "\u001b[1;36m  File \u001b[1;32m\"<ipython-input-2-1699c2190c5e>\"\u001b[1;36m, line \u001b[1;32m1\u001b[0m\n\u001b[1;33m    stuff.iris.load(~/iris_test/tasmax_day_hadam3p_anz_a000_2013_1_009458303_0.nc)\u001b[0m\n\u001b[1;37m                     ^\u001b[0m\n\u001b[1;31mSyntaxError\u001b[0m\u001b[1;31m:\u001b[0m invalid syntax\n"
     ]
    }
   ],
   "source": [
    "stuff.iris.load(~/iris_test/tasmax_day_hadam3p_anz_a000_2013_1_009458303_0.nc)\n"
   ]
  },
  {
   "cell_type": "code",
   "execution_count": null,
   "metadata": {
    "collapsed": true
   },
   "outputs": [],
   "source": []
  }
 ],
 "metadata": {
  "kernelspec": {
   "display_name": "Python 2",
   "language": "python",
   "name": "python2"
  },
  "language_info": {
   "codemirror_mode": {
    "name": "ipython",
    "version": 2
   },
   "file_extension": ".py",
   "mimetype": "text/x-python",
   "name": "python",
   "nbconvert_exporter": "python",
   "pygments_lexer": "ipython2",
   "version": "2.7.12"
  }
 },
 "nbformat": 4,
 "nbformat_minor": 0
}
